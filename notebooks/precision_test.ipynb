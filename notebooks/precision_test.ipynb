{
 "cells": [
  {
   "cell_type": "code",
   "execution_count": 3,
   "metadata": {},
   "outputs": [],
   "source": [
    "import numpy as np\n",
    "from numba import jit\n",
    "\n",
    "@jit\n",
    "def count_weighted_pairs_3d(x1, y1, z1, w1, x2, y2, z2, w2, rbins_squared, result):\n",
    "\n",
    "    n1 = x1.shape[0]\n",
    "    n2 = x2.shape[0]\n",
    "    nbins = rbins_squared.shape[0]\n",
    "\n",
    "    for i in range(n1):\n",
    "        px = x1[i]\n",
    "        py = y1[i]\n",
    "        pz = z1[i]\n",
    "        pw = w1[i]\n",
    "        for j in range(n2):\n",
    "            qx = x2[j]\n",
    "            qy = y2[j]\n",
    "            qz = z2[j]\n",
    "            qw = w2[j]\n",
    "            dx = px-qx\n",
    "            dy = py-qy\n",
    "            dz = pz-qz\n",
    "            wprod = pw*qw\n",
    "            dsq = dx*dx + dy*dy + dz*dz\n",
    "\n",
    "            k = nbins-1\n",
    "            while dsq <= rbins_squared[k]:\n",
    "                result[k-1] += wprod\n",
    "                k=k-1\n",
    "                if k<=0:\n",
    "                    break\n"
   ]
  },
  {
   "cell_type": "code",
   "execution_count": 4,
   "metadata": {},
   "outputs": [],
   "source": [
    "n1, n2 = 1000, 1000\n",
    "Lbox = 1000.\n",
    "x1 = np.random.uniform(0, Lbox, size=n1)\n",
    "y1 = np.random.uniform(0, Lbox, size=n1)\n",
    "z1 = np.random.uniform(0, Lbox, size=n1)\n",
    "w1 = np.random.uniform(0, 1, size=n1)\n",
    "\n",
    "x2 = np.random.uniform(0, Lbox, size=n2)\n",
    "y2 = np.random.uniform(0, Lbox, size=n2)\n",
    "z2 = np.random.uniform(0, Lbox, size=n2)\n",
    "w2 = np.random.uniform(0, 1, size=n2)\n",
    "\n",
    "nbins = 20\n",
    "rmin, rmax = 0.1, 40\n",
    "rbins = np.logspace(np.log10(rmin), np.log10(rmax), nbins)\n",
    "rbins_squared = rbins**2\n",
    "\n",
    "result_f32 = np.zeros(nbins).astype('f4')\n",
    "result_f64 = np.zeros(nbins).astype('f8')\n",
    "\n"
   ]
  },
  {
   "cell_type": "code",
   "execution_count": 5,
   "metadata": {},
   "outputs": [
    {
     "name": "stdout",
     "output_type": "stream",
     "text": [
      "True\n"
     ]
    }
   ],
   "source": [
    "count_weighted_pairs_3d(x1.astype('f4'), y1.astype('f4'), z1.astype('f4'), w1.astype('f4'), \n",
    "                        x2.astype('f4'), y2.astype('f4'), z2.astype('f4'), w2.astype('f4'), \n",
    "                        rbins_squared.astype('f4'), result_f32)\n",
    "\n",
    "count_weighted_pairs_3d(x1.astype('f8'), y1.astype('f8'), z1.astype('f8'), w1.astype('f8'), \n",
    "                        x2.astype('f8'), y2.astype('f8'), z2.astype('f8'), w2.astype('f8'), \n",
    "                        rbins_squared.astype('f8'), result_f64)\n",
    "\n",
    "print(np.allclose(result_f32, result_f64))"
   ]
  },
  {
   "cell_type": "code",
   "execution_count": 6,
   "metadata": {},
   "outputs": [
    {
     "data": {
      "text/plain": [
       "array([ 0.        ,  0.        ,  0.        ,  0.        ,  0.        ,\n",
       "        0.        ,  0.        ,  0.        ,  0.        ,  0.        ,\n",
       "        0.        ,  0.        ,  0.        ,  0.28704327,  0.5060246 ,\n",
       "        2.9829164 , 10.560754  , 27.483397  , 62.219048  ,  0.        ],\n",
       "      dtype=float32)"
      ]
     },
     "execution_count": 6,
     "metadata": {},
     "output_type": "execute_result"
    }
   ],
   "source": [
    "result_f32"
   ]
  },
  {
   "cell_type": "code",
   "execution_count": 7,
   "metadata": {},
   "outputs": [
    {
     "data": {
      "text/plain": [
       "array([ 0.        ,  0.        ,  0.        ,  0.        ,  0.        ,\n",
       "        0.        ,  0.        ,  0.        ,  0.        ,  0.        ,\n",
       "        0.        ,  0.        ,  0.        ,  0.28704326,  0.50602458,\n",
       "        2.98291623, 10.56075547, 27.48339284, 62.21903872,  0.        ])"
      ]
     },
     "execution_count": 7,
     "metadata": {},
     "output_type": "execute_result"
    }
   ],
   "source": [
    "result_f64"
   ]
  },
  {
   "cell_type": "code",
   "execution_count": null,
   "metadata": {},
   "outputs": [],
   "source": []
  },
  {
   "cell_type": "code",
   "execution_count": null,
   "metadata": {},
   "outputs": [],
   "source": []
  }
 ],
 "metadata": {
  "kernelspec": {
   "display_name": "Python 3",
   "language": "python",
   "name": "python3"
  },
  "language_info": {
   "codemirror_mode": {
    "name": "ipython",
    "version": 3
   },
   "file_extension": ".py",
   "mimetype": "text/x-python",
   "name": "python",
   "nbconvert_exporter": "python",
   "pygments_lexer": "ipython3",
   "version": "3.7.3"
  }
 },
 "nbformat": 4,
 "nbformat_minor": 2
}
