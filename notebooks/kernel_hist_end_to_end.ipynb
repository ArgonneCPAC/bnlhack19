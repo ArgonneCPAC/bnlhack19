{
 "cells": [
  {
   "cell_type": "code",
   "execution_count": 1,
   "metadata": {},
   "outputs": [],
   "source": [
    "import math\n",
    "import numba\n",
    "import numpy as np\n",
    "\n",
    "# FIXME - rewrite in pytorch\n",
    "from autograd import numpy as np_ag\n",
    "from autograd import elementwise_grad, grad, jacobian\n",
    "\n",
    "import matplotlib.pyplot as plt\n",
    "\n",
    "%matplotlib notebook"
   ]
  },
  {
   "cell_type": "code",
   "execution_count": 2,
   "metadata": {},
   "outputs": [],
   "source": [
    "DEFAULT_PARAMS = np.array([\n",
    "    -1.777,  # log10epsilon\n",
    "    11.514,  # log10M1\n",
    "    -1.412,  # alpha\n",
    "    0.316,  # gamma\n",
    "    3.508  # delta\n",
    "])\n",
    "\n",
    "\n",
    "def log10mstar_mpeak(mvir_peak, params):\n",
    "    \"\"\"M*(Mvir_peak) from Behroozi et a. (2012, 1207.6105), Eq. 3.\n",
    "    \n",
    "    Only valid at z = 0.\n",
    "    \n",
    "    Parameters\n",
    "    ----------\n",
    "    mvir_peak : np.array\n",
    "        The peak virial mass of the subhalo.\n",
    "    params : np.array\n",
    "        An array of the parameters in the order \n",
    "        [log10epsilon, log10M1, alpha, gamma, delta].\n",
    "    \n",
    "    Returns\n",
    "    -------\n",
    "    log10mstar : np.array\n",
    "        The base-10 log of the stellar mass.\n",
    "    \"\"\"\n",
    "    log10epsilon = params[0]\n",
    "    log10M1 = params[1]\n",
    "    alpha = params[2]\n",
    "    gamma = params[3]\n",
    "    delta = params[4]\n",
    "    def _f(x):\n",
    "        return (\n",
    "            -np_ag.log10(np_ag.power(10, alpha * x) + 1) + \n",
    "            delta * \n",
    "            np_ag.power(np_ag.log10(1 + np_ag.exp(x)), gamma) / \n",
    "            (1.0 + np_ag.exp(np_ag.power(10, -x))))\n",
    "    log10_mh_m1 = np_ag.log10(mvir_peak) - log10M1\n",
    "    log10_mstar = log10epsilon + log10M1 + _f(log10_mh_m1) - _f(0)\n",
    "    return log10_mstar\n",
    "\n",
    "# this computes the derivative we need of the model wrt the parameters\n",
    "jac_grad_delta = jacobian(log10mstar_mpeak, 1)"
   ]
  },
  {
   "cell_type": "code",
   "execution_count": 3,
   "metadata": {},
   "outputs": [
    {
     "name": "stdout",
     "output_type": "stream",
     "text": [
      "[[ 1.          0.04450711 -0.0829992  -0.19590005  0.13438049]\n",
      " [ 1.         -0.40179259  1.50305522  0.77506218 -0.18403413]]\n"
     ]
    }
   ],
   "source": [
    "# output here is the deriv of log10Mstar for the ith object wrt to the jth\n",
    "# parameter as jac[i, j]\n",
    "jac = jac_grad_delta(np.array([1e12, 1e10]), DEFAULT_PARAMS)\n",
    "print(jac)\n",
    "\n",
    "# fancy right?"
   ]
  },
  {
   "cell_type": "code",
   "execution_count": 24,
   "metadata": {},
   "outputs": [],
   "source": [
    "@numba.njit\n",
    "def kernel_hist_with_derivs(log10mstar, log10mstar_jac, bins, sigma):\n",
    "    \"\"\"Compute a histogram of the input stellar masses along with the \n",
    "    derivatives of this histogram using the input jacobian.\n",
    "    \n",
    "    Parameters\n",
    "    ----------\n",
    "    log10mstar : np.array, shape (n_data,)\n",
    "        The input stellar masses to histogram.\n",
    "    log10mstar_jac : np.array, shape (n_data, n_params)\n",
    "        The jacobian derivs of the input stellar masses wrt the params.\n",
    "    bins : np.array, shape (n_bins+1,)\n",
    "        An array of the bin edges.\n",
    "    sigma : float or np.array of shape (n_data,)\n",
    "        The width of the Gaussian kernel to use for the bins. Should be \n",
    "        roughly the scatter in the stellar to halo mass relation with \n",
    "        any observational errors. FIXME: We need to output a derivative \n",
    "        wrt this as well.\n",
    "    \n",
    "    Returns\n",
    "    -------\n",
    "    hist : np.array, shape (n_bins,)\n",
    "        The output histogram.\n",
    "    hist_jac : np.array, shape (n_bins, n_params)\n",
    "        The derivatives of the histogram bins wrt the params.\n",
    "    \"\"\"\n",
    "    n_bins = bins.shape[0]-1\n",
    "    n_params = log10mstar_jac.shape[1]\n",
    "    n_data = log10mstar.shape[0]\n",
    "    \n",
    "    hist = np.zeros(n_bins)\n",
    "    hist_jac = np.zeros((n_bins, n_params))\n",
    "\n",
    "    sigma_sqrt2 = sigma * math.sqrt(2)\n",
    "    sigma_sqrt2pi = sigma_sqrt2 * math.sqrt(math.pi)\n",
    "\n",
    "    for i in range(n_data):\n",
    "        x = log10mstar[i]\n",
    "\n",
    "        z = (x - bins[0]) / sigma_sqrt2\n",
    "        last_cdf = (1 + math.erf(z)) / 2\n",
    "        last_cdf_deriv = math.exp(-z*z) / sigma_sqrt2pi\n",
    "\n",
    "        for j in range(n_bins):\n",
    "            z = (x -  bins[j+1]) / sigma_sqrt2\n",
    "            new_cdf = (1 + math.erf(z)) / 2\n",
    "            new_cdf_deriv = math.exp(-z*z) / sigma_sqrt2pi\n",
    "\n",
    "            # get the hist weight\n",
    "            weight = last_cdf - new_cdf\n",
    "            hist[j] += weight\n",
    "            \n",
    "            # do the derivs\n",
    "            for k in range(n_params):\n",
    "                hist_jac[j, k] += (last_cdf_deriv - new_cdf_deriv) * log10mstar_jac[i, k]\n",
    "\n",
    "            last_cdf = new_cdf\n",
    "            last_cdf_deriv = new_cdf_deriv\n",
    "    \n",
    "    return hist, hist_jac"
   ]
  },
  {
   "cell_type": "code",
   "execution_count": 25,
   "metadata": {},
   "outputs": [],
   "source": [
    "mpeak = np.array([1e12, 1e14])\n",
    "vals = log10mstar_mpeak(mpeak, DEFAULT_PARAMS)\n",
    "jac = jac_grad_delta(mpeak, DEFAULT_PARAMS)\n",
    "\n",
    "h, jac_h = kernel_hist_with_derivs(\n",
    "    vals, \n",
    "    jac, \n",
    "    np.array([9, 9.5, 10, 10.5, 11, 11.5, 12, 12.5, 13, 13.5, 14], dtype=np.float32), 0.2)"
   ]
  },
  {
   "cell_type": "code",
   "execution_count": 26,
   "metadata": {},
   "outputs": [
    {
     "data": {
      "text/plain": [
       "[<matplotlib.lines.Line2D at 0x11cba85c0>]"
      ]
     },
     "execution_count": 26,
     "metadata": {},
     "output_type": "execute_result"
    },
    {
     "data": {
      "image/png": "[encoded data removed]",
      "text/plain": [
       "<Figure size 432x288 with 1 Axes>"
      ]
     },
     "metadata": {
      "needs_background": "light"
     },
     "output_type": "display_data"
    }
   ],
   "source": [
    "plt.figure()\n",
    "plt.plot(h)"
   ]
  },
  {
   "cell_type": "code",
   "execution_count": 29,
   "metadata": {},
   "outputs": [
    {
     "data": {
      "text/plain": [
       "[<matplotlib.lines.Line2D at 0x1202448d0>]"
      ]
     },
     "execution_count": 29,
     "metadata": {},
     "output_type": "execute_result"
    },
    {
     "data": {
      "image/png": "[encoded data removed]",
      "text/plain": [
       "<Figure size 432x288 with 1 Axes>"
      ]
     },
     "metadata": {
      "needs_background": "light"
     },
     "output_type": "display_data"
    }
   ],
   "source": [
    "plt.figure()\n",
    "plt.plot(jac_h[:, 1])"
   ]
  },
  {
   "cell_type": "code",
   "execution_count": null,
   "metadata": {},
   "outputs": [],
   "source": []
  }
 ],
 "metadata": {
  "kernelspec": {
   "display_name": "Python 3",
   "language": "python",
   "name": "python3"
  },
  "language_info": {
   "codemirror_mode": {
    "name": "ipython",
    "version": 3
   },
   "file_extension": ".py",
   "mimetype": "text/x-python",
   "name": "python",
   "nbconvert_exporter": "python",
   "pygments_lexer": "ipython3",
   "version": "3.6.7"
  }
 },
 "nbformat": 4,
 "nbformat_minor": 2
}
