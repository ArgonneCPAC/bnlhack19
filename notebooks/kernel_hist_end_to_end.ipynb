{
 "cells": [
  {
   "cell_type": "code",
   "execution_count": 1,
   "metadata": {},
   "outputs": [],
   "source": [
    "import math\n",
    "import numba\n",
    "import numpy as np\n",
    "import h5py\n",
    "import jax\n",
    "import jax.numpy as jax_np\n",
    "import pyhmc\n",
    "\n",
    "import matplotlib.pyplot as plt\n",
    "import seaborn as sns\n",
    "\n",
    "%matplotlib notebook"
   ]
  },
  {
   "cell_type": "code",
   "execution_count": 2,
   "metadata": {},
   "outputs": [],
   "source": [
    "DEFAULT_PARAMS = np.array([\n",
    "    -1.777,  # log10epsilon\n",
    "    11.514,  # log10M1\n",
    "    -1.412,  # alpha\n",
    "    0.316,  # gamma\n",
    "    3.508  # delta\n",
    "])"
   ]
  },
  {
   "cell_type": "markdown",
   "metadata": {},
   "source": [
    "## Autograd w/ Jax"
   ]
  },
  {
   "cell_type": "code",
   "execution_count": 3,
   "metadata": {},
   "outputs": [],
   "source": [
    "@jax.jit\n",
    "def _my_fun(log10mvir_peak, params):\n",
    "    log10epsilon = params[0]\n",
    "    log10M1 = params[1]\n",
    "    alpha = params[2]\n",
    "    gamma = params[3]\n",
    "    delta = params[4]\n",
    "    \n",
    "    def _f(x):\n",
    "        return (\n",
    "            -jax_np.log10(jax_np.power(10.0, alpha * x) + 1) + \n",
    "            delta * \n",
    "            jax_np.power(jax_np.log10(1 + jax_np.exp(x)), gamma) / \n",
    "            (1.0 + jax_np.exp(jax_np.power(10.0, -x))))\n",
    "\n",
    "\n",
    "    log10_mh_m1 = log10mvir_peak - log10M1\n",
    "    return log10epsilon + log10M1 + _f(log10_mh_m1) - _f(0)\n",
    "\n",
    "_my_fun_grad = jax.jit(jax.vmap(jax.grad(_my_fun, 1), in_axes=(0, None)))\n",
    "\n",
    "\n",
    "def log10mstar_mpeak(log10mvir_peak, params, grad=False):\n",
    "    \"\"\"log10M*(Mvir_peak) from Behroozi et a. (2012, 1207.6105), Eq. 3.\n",
    "    \n",
    "    Only valid at z = 0.\n",
    "    \n",
    "    Parameters\n",
    "    ----------\n",
    "    log10mvir_peak : np.array\n",
    "        The base-10 log of the peak virial mass of the subhalo.\n",
    "    params : np.array\n",
    "        An array of the parameters in the order \n",
    "        [log10epsilon, log10M1, alpha, gamma, delta].\n",
    "    grad : bool, optional\n",
    "        If True, just Jax to compute the derivatives and return as second return value.\n",
    "    \n",
    "    Returns\n",
    "    -------\n",
    "    log10mstar : np.array\n",
    "        The base-10 log of the stellar mass.\n",
    "    log10mstar_grad : np.array\n",
    "        The derivative of the output wrt the params. Only present if `grad=True` is set.\n",
    "    \"\"\"\n",
    "    n_params = params.shape[0]\n",
    "    n_data = log10mvir_peak.shape[0]\n",
    "    \n",
    "    if grad:\n",
    "        return _my_fun(log10mvir_peak, params)._value, _my_fun_grad(log10mvir_peak, params)._value\n",
    "    else:\n",
    "        return _my_fun(log10mvir_peak, params)._value"
   ]
  },
  {
   "cell_type": "markdown",
   "metadata": {},
   "source": [
    "Test this to make sure it runs:"
   ]
  },
  {
   "cell_type": "code",
   "execution_count": 4,
   "metadata": {},
   "outputs": [
    {
     "name": "stderr",
     "output_type": "stream",
     "text": [
      "/Users/Matt/miniconda3/envs/anl-py37/lib/python3.7/site-packages/jax/lib/xla_bridge.py:115: UserWarning: No GPU/TPU found, falling back to CPU.\n",
      "  warnings.warn('No GPU/TPU found, falling back to CPU.')\n"
     ]
    },
    {
     "name": "stdout",
     "output_type": "stream",
     "text": [
      "[10.428106 11.204406] [[ 1.0000000e+00  4.4507146e-02 -8.2999207e-02 -1.9589996e-01\n",
      "   1.3438046e-01]\n",
      " [ 1.0000000e+00  7.8672653e-01 -7.6760008e-04  9.7131228e-01\n",
      "   3.3252856e-01]]\n"
     ]
    }
   ],
   "source": [
    "p, pg = log10mstar_mpeak(np.log10(np.array([1e12, 1e14])), DEFAULT_PARAMS, grad=True)\n",
    "print(p, pg)"
   ]
  },
  {
   "cell_type": "markdown",
   "metadata": {},
   "source": [
    "## Binning Function w/ Deriv"
   ]
  },
  {
   "cell_type": "code",
   "execution_count": 5,
   "metadata": {},
   "outputs": [],
   "source": [
    "@numba.njit\n",
    "def kernel_hist_with_derivs(log10mstar, log10mstar_jac, bins, sigma):\n",
    "    \"\"\"Compute a histogram of the input stellar masses along with the \n",
    "    derivatives of this histogram using the input jacobian.\n",
    "    \n",
    "    Parameters\n",
    "    ----------\n",
    "    log10mstar : np.array, shape (n_data,)\n",
    "        The input stellar masses to histogram.\n",
    "    log10mstar_jac : np.array, shape (n_data, n_params)\n",
    "        The jacobian derivs of the input stellar masses wrt the params.\n",
    "    bins : np.array, shape (n_bins+1,)\n",
    "        An array of the bin edges.\n",
    "    sigma : float or np.array of shape (n_data,)\n",
    "        The width of the Gaussian kernel to use for the bins. Should be \n",
    "        roughly the scatter in the stellar to halo mass relation with \n",
    "        any observational errors. FIXME: We need to output a derivative \n",
    "        wrt this as well.\n",
    "    \n",
    "    Returns\n",
    "    -------\n",
    "    hist : np.array, shape (n_bins,)\n",
    "        The output histogram.\n",
    "    hist_jac : np.array, shape (n_bins, n_params)\n",
    "        The derivatives of the histogram bins wrt the params.\n",
    "    \"\"\"\n",
    "    n_bins = bins.shape[0]-1\n",
    "    n_params = log10mstar_jac.shape[1]\n",
    "    n_data = log10mstar.shape[0]\n",
    "    \n",
    "    hist = np.zeros(n_bins)\n",
    "    hist_jac = np.zeros((n_bins, n_params))\n",
    "\n",
    "    sigma_sqrt2 = sigma * math.sqrt(2)\n",
    "    sigma_sqrt2pi = sigma_sqrt2 * math.sqrt(math.pi)\n",
    "\n",
    "    for i in range(n_data):\n",
    "        x = log10mstar[i]\n",
    "\n",
    "        z = (x - bins[0]) / sigma_sqrt2\n",
    "        last_cdf = (1 + math.erf(z)) / 2\n",
    "        last_cdf_deriv = math.exp(-z*z) / sigma_sqrt2pi\n",
    "\n",
    "        for j in range(n_bins):\n",
    "            z = (x -  bins[j+1]) / sigma_sqrt2\n",
    "            new_cdf = (1 + math.erf(z)) / 2\n",
    "            new_cdf_deriv = math.exp(-z*z) / sigma_sqrt2pi\n",
    "\n",
    "            # get the hist weight\n",
    "            weight = last_cdf - new_cdf\n",
    "            hist[j] += weight\n",
    "            \n",
    "            # do the derivs\n",
    "            for k in range(n_params):\n",
    "                hist_jac[j, k] += (last_cdf_deriv - new_cdf_deriv) * log10mstar_jac[i, k]\n",
    "\n",
    "            last_cdf = new_cdf\n",
    "            last_cdf_deriv = new_cdf_deriv\n",
    "    \n",
    "    return hist, hist_jac"
   ]
  },
  {
   "cell_type": "markdown",
   "metadata": {},
   "source": [
    "## Run on Data!"
   ]
  },
  {
   "cell_type": "code",
   "execution_count": 6,
   "metadata": {},
   "outputs": [],
   "source": [
    "# alright, now lets read some real data!\n",
    "with h5py.File('halos_Lb125_1024.h5', 'r') as hf:\n",
    "    data = hf['halos'][:]\n",
    "    \n",
    "msk = np.log10(data['mpeak']) > 10.0\n",
    "data = data[msk]"
   ]
  },
  {
   "cell_type": "code",
   "execution_count": 7,
   "metadata": {},
   "outputs": [],
   "source": [
    "log10mstar = log10mstar_mpeak(np.log10(data['mpeak']), DEFAULT_PARAMS)"
   ]
  },
  {
   "cell_type": "markdown",
   "metadata": {},
   "source": [
    "### Make a plot of the data"
   ]
  },
  {
   "cell_type": "code",
   "execution_count": 8,
   "metadata": {},
   "outputs": [
    {
     "data": {
      "text/plain": [
       "<seaborn.axisgrid.JointGrid at 0x12a8e1470>"
      ]
     },
     "execution_count": 8,
     "metadata": {},
     "output_type": "execute_result"
    },
    {
     "data": {
      "text/plain": [
       "<Figure size 432x288 with 0 Axes>"
      ]
     },
     "metadata": {},
     "output_type": "display_data"
    },
    {
     "data": {
      "image/png": "[encoded data removed]",
      "text/plain": [
       "<Figure size 432x432 with 3 Axes>"
      ]
     },
     "metadata": {
      "needs_background": "light"
     },
     "output_type": "display_data"
    }
   ],
   "source": [
    "plt.figure()\n",
    "jg = sns.jointplot(\n",
    "    np.log10(data['mpeak']), \n",
    "    log10mstar, \n",
    "    kind='hex', bins='log', \n",
    "    marginal_kws={'hist_kws': {'log': True}},\n",
    "    )\n",
    "jg.set_axis_labels('log10(Mvir_peak)', 'log10(Mstar)')"
   ]
  },
  {
   "cell_type": "markdown",
   "metadata": {},
   "source": [
    "### Now let's try using our function above"
   ]
  },
  {
   "cell_type": "code",
   "execution_count": 11,
   "metadata": {},
   "outputs": [
    {
     "name": "stdout",
     "output_type": "stream",
     "text": [
      "CPU times: user 170 ms, sys: 7.74 ms, total: 178 ms\n",
      "Wall time: 96.5 ms\n"
     ]
    }
   ],
   "source": [
    "%%time\n",
    "\n",
    "vals, jac = log10mstar_mpeak(np.log10(data['mpeak']), DEFAULT_PARAMS, grad=True)"
   ]
  },
  {
   "cell_type": "code",
   "execution_count": 12,
   "metadata": {},
   "outputs": [
    {
     "name": "stdout",
     "output_type": "stream",
     "text": [
      "CPU times: user 1.42 s, sys: 46.8 ms, total: 1.47 s\n",
      "Wall time: 1.49 s\n"
     ]
    }
   ],
   "source": [
    "%%time\n",
    "\n",
    "bins = np.linspace(9, 13, 25)\n",
    "locs = bins[:-1] + (bins[1] - bins[0])/2\n",
    "\n",
    "h, jac_h = kernel_hist_with_derivs(\n",
    "    vals, \n",
    "    jac, \n",
    "    bins, \n",
    "    0.2)"
   ]
  },
  {
   "cell_type": "code",
   "execution_count": 13,
   "metadata": {},
   "outputs": [
    {
     "data": {
      "text/plain": [
       "[<matplotlib.lines.Line2D at 0x12e497d30>]"
      ]
     },
     "execution_count": 13,
     "metadata": {},
     "output_type": "execute_result"
    },
    {
     "data": {
      "image/png": "[encoded data removed]",
      "text/plain": [
       "<Figure size 432x288 with 1 Axes>"
      ]
     },
     "metadata": {
      "needs_background": "light"
     },
     "output_type": "display_data"
    }
   ],
   "source": [
    "plt.figure()\n",
    "plt.semilogy(locs, h)"
   ]
  },
  {
   "cell_type": "code",
   "execution_count": 14,
   "metadata": {},
   "outputs": [
    {
     "data": {
      "text/plain": [
       "[<matplotlib.lines.Line2D at 0x12e663eb8>]"
      ]
     },
     "execution_count": 14,
     "metadata": {},
     "output_type": "execute_result"
    },
    {
     "data": {
      "image/png": "[encoded data removed]",
      "text/plain": [
       "<Figure size 432x288 with 1 Axes>"
      ]
     },
     "metadata": {
      "needs_background": "light"
     },
     "output_type": "display_data"
    }
   ],
   "source": [
    "plt.figure()\n",
    "plt.plot(locs, jac_h[:, 0])"
   ]
  },
  {
   "cell_type": "markdown",
   "metadata": {},
   "source": [
    "## And finally, some HMC"
   ]
  },
  {
   "cell_type": "code",
   "execution_count": 17,
   "metadata": {},
   "outputs": [],
   "source": [
    "bins = np.linspace(9, 13, 25)\n",
    "locs = bins[:-1] + (bins[1] - bins[0])/2\n",
    "\n",
    "def logprob_and_grad(params, log10mvir_peak, param_scales, h_meas, h_err):\n",
    "    p = params * param_scales\n",
    "    vals, jac = log10mstar_mpeak(log10mvir_peak, p, grad=True)\n",
    "    h_mod, jac_h = kernel_hist_with_derivs(\n",
    "        vals, \n",
    "        jac, \n",
    "        bins, \n",
    "        0.2)\n",
    "    chi = (h_meas - h_mod) / h_err\n",
    "    return -0.5 * np.sum(chi**2), -np.sum(chi * jac_h, axis=0)"
   ]
  },
  {
   "cell_type": "code",
   "execution_count": null,
   "metadata": {},
   "outputs": [],
   "source": [
    "h_err = np.sqrt(h)"
   ]
  }
 ],
 "metadata": {
  "kernelspec": {
   "display_name": "Python 3",
   "language": "python",
   "name": "python3"
  },
  "language_info": {
   "codemirror_mode": {
    "name": "ipython",
    "version": 3
   },
   "file_extension": ".py",
   "mimetype": "text/x-python",
   "name": "python",
   "nbconvert_exporter": "python",
   "pygments_lexer": "ipython3",
   "version": "3.7.3"
  }
 },
 "nbformat": 4,
 "nbformat_minor": 2
}
